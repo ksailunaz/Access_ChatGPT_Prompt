{
 "cells": [
  {
   "cell_type": "code",
   "execution_count": 1,
   "metadata": {},
   "outputs": [
    {
     "name": "stdout",
     "output_type": "stream",
     "text": [
      "Response from OpenAI: {'id': 'chatcmpl-A3W6zdEQnuBRI2NhtOodsKwwLPuO2', 'object': 'chat.completion', 'created': 1725401785, 'model': 'gpt-3.5-turbo-0125', 'choices': [{'index': 0, 'message': {'role': 'assistant', 'content': \"Lesson Plan Title: Exploring the Five Senses\\n\\nObjective: \\n- Introduce kindergarten students to the five senses and their importance in understanding the world around us.\\n\\nMaterials:\\n- Pictures or flashcards representing each of the five senses (sight, hearing, taste, smell, touch)\\n- Objects representing each sense for a hands-on activity\\n- Paper and crayons for an art activity\\n\\nLesson Plan:\\n1. Slide 1 (Title): Exploring the Five Senses\\n2. Slide 2: Objective of the Lesson\\n3. Slide 3: Introduction - What are the five senses?\\n4. Slide 4: Sense of Sight (Picture or flashcard of an eye)\\n5. Slide 5: Sense of Hearing (Picture or flashcard of an ear)\\n6. Slide 6: Sense of Taste (Picture or flashcard of a tongue)\\n7. Slide 7: Sense of Smell (Picture or flashcard of a nose)\\n8. Slide 8: Sense of Touch (Picture or flashcard of a hand)\\n9. Slide 9: Importance of the Five Senses\\n10. Slide 10: Fun Fact about the Senses\\n11. Slide 11: Sense of Sight Activity\\n12. Slide 12: Sense of Hearing Activity\\n13. Slide 13: Sense of Taste Activity\\n14. Slide 14: Sense of Smell Activity\\n15. Slide 15: Sense of Touch Activity\\n16. Slide 16: Five Senses Art Activity\\n17. Slide 17: Let's Review the Five Senses\\n18. Slide 18: Conclusion - Why are the Five Senses important?\\n19. Slide 19: Thank You Slide\\n20. Slide 20: Questions and Answers\\n\\nNow, I will provide you with the instructions for each slide. Let's proceed with creating the PowerPoint slide deck using Python. \", 'refusal': None}, 'logprobs': None, 'finish_reason': 'stop'}], 'usage': {'prompt_tokens': 70, 'completion_tokens': 383, 'total_tokens': 453}, 'system_fingerprint': None}\n",
      "\n",
      "\n",
      "Lesson Plan Title: Exploring the Five Senses\n",
      "\n",
      "Objective: \n",
      "- Introduce kindergarten students to the five senses and their importance in understanding the world around us.\n",
      "\n",
      "Materials:\n",
      "- Pictures or flashcards representing each of the five senses (sight, hearing, taste, smell, touch)\n",
      "- Objects representing each sense for a hands-on activity\n",
      "- Paper and crayons for an art activity\n",
      "\n",
      "Lesson Plan:\n",
      "1. Slide 1 (Title): Exploring the Five Senses\n",
      "2. Slide 2: Objective of the Lesson\n",
      "3. Slide 3: Introduction - What are the five senses?\n",
      "4. Slide 4: Sense of Sight (Picture or flashcard of an eye)\n",
      "5. Slide 5: Sense of Hearing (Picture or flashcard of an ear)\n",
      "6. Slide 6: Sense of Taste (Picture or flashcard of a tongue)\n",
      "7. Slide 7: Sense of Smell (Picture or flashcard of a nose)\n",
      "8. Slide 8: Sense of Touch (Picture or flashcard of a hand)\n",
      "9. Slide 9: Importance of the Five Senses\n",
      "10. Slide 10: Fun Fact about the Senses\n",
      "11. Slide 11: Sense of Sight Activity\n",
      "12. Slide 12: Sense of Hearing Activity\n",
      "13. Slide 13: Sense of Taste Activity\n",
      "14. Slide 14: Sense of Smell Activity\n",
      "15. Slide 15: Sense of Touch Activity\n",
      "16. Slide 16: Five Senses Art Activity\n",
      "17. Slide 17: Let's Review the Five Senses\n",
      "18. Slide 18: Conclusion - Why are the Five Senses important?\n",
      "19. Slide 19: Thank You Slide\n",
      "20. Slide 20: Questions and Answers\n",
      "\n",
      "Now, I will provide you with the instructions for each slide. Let's proceed with creating the PowerPoint slide deck using Python. \n"
     ]
    }
   ],
   "source": [
    "# Access chatgpt with API to provide prompt as input and get the results\n",
    "# Only 1 prompt will work at a time\n",
    "\n",
    "import requests\n",
    "import json\n",
    "import os\n",
    "\n",
    "openai_api_key = \"...\"# put yout api key here\n",
    "if openai_api_key is None:\n",
    "    raise ValueError(\"OpenAI API key is not set in environment variables.\")\n",
    "\n",
    "url = \"https://api.openai.com/v1/chat/completions\"\n",
    "\n",
    "prompt1 = \"Create a virtual lesson plan for a science class of kindergarten students, and using the above lesson plan draft instructions for a PowerPoint Slide Deck for exactly 20 slides, and then using the Powerpoint slide instructions, write a python code that will draft all 20 slides.\"\n",
    "prompt2= \"Create a virtual lesson plan for an online science class of kindergarten students, and using the above lesson plan draft instructions for a PowerPoint Slide Deck for exactly 20 slides, and then using the above Powerpoint slide instructions, write a python code that will accurately draft and save all 20 slides.\"\n",
    "\n",
    "headers = {\n",
    "    \"Content-Type\": \"application/json\",\n",
    "    \"Authorization\": f\"Bearer {openai_api_key}\"\n",
    "}\n",
    "\n",
    "data = {\n",
    "    \"model\": \"gpt-3.5-turbo\",\n",
    "    \"messages\": [\n",
    "        {\n",
    "            \"role\": \"system\",\n",
    "            \"content\": \"You are a helpful assistant.\"\n",
    "        },\n",
    "        {\n",
    "            \"role\": \"user\",\n",
    "            \"content\": prompt1\n",
    "        }\n",
    "    ]\n",
    "}\n",
    "\n",
    "response = requests.post(url, headers=headers, json=data)\n",
    "\n",
    "#Check if the request was successful\n",
    "if response.status_code == 200:\n",
    "    print(\"Response from OpenAI:\", response.json())\n",
    "    print('\\n')\n",
    "    print(response.json()['choices'][0]['message']['content'])\n",
    "else:\n",
    "    print(\"Error:\", response.status_code, response.text)"
   ]
  },
  {
   "cell_type": "code",
   "execution_count": null,
   "metadata": {},
   "outputs": [],
   "source": []
  }
 ],
 "metadata": {
  "kernelspec": {
   "display_name": "Python 3",
   "language": "python",
   "name": "python3"
  },
  "language_info": {
   "codemirror_mode": {
    "name": "ipython",
    "version": 3
   },
   "file_extension": ".py",
   "mimetype": "text/x-python",
   "name": "python",
   "nbconvert_exporter": "python",
   "pygments_lexer": "ipython3",
   "version": "3.7.9"
  }
 },
 "nbformat": 4,
 "nbformat_minor": 4
}
